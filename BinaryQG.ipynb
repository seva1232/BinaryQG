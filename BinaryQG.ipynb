{
 "cells": [
  {
   "cell_type": "code",
   "execution_count": 8,
   "metadata": {
    "ExecuteTime": {
     "end_time": "2019-11-22T10:45:47.520698Z",
     "start_time": "2019-11-22T10:45:47.516711Z"
    }
   },
   "outputs": [],
   "source": [
    "import numpy as np\n",
    "import sympy as sp"
   ]
  },
  {
   "cell_type": "code",
   "execution_count": 46,
   "metadata": {
    "ExecuteTime": {
     "end_time": "2019-11-22T10:57:30.622351Z",
     "start_time": "2019-11-22T10:57:30.615370Z"
    }
   },
   "outputs": [],
   "source": [
    "import numpy as np\n",
    "import sympy as sp\n",
    "\n",
    "def int2bin(a, lenght):\n",
    "    return list(bin(a)[2:].zfill(lenght))\n",
    "    \n",
    "\n",
    "class QuasiGroup(object):\n",
    "    def __init__(self, power):\n",
    "        super(QuasiGroup, self).__init__()\n",
    "        self.power = power\n",
    "        self.order = 2 ** power\n",
    "        self.table = np.zeros((2 ** power, 2 ** power))\n",
    "        self.bin_table = np.zeros((2 ** power, 2 ** power, power))\n",
    "        \n",
    "    def set_table(self, q):\n",
    "        self.table = np.array(q)\n",
    "        for i in range(self.order):\n",
    "            for j in range(self.order):\n",
    "                a = int2bin(q[i][j], lenght=self.power)\n",
    "                self.bin_table[i,j,:] = a\n",
    "    \n",
    "\n",
    "        "
   ]
  },
  {
   "cell_type": "code",
   "execution_count": 47,
   "metadata": {
    "ExecuteTime": {
     "end_time": "2019-11-22T10:57:30.765853Z",
     "start_time": "2019-11-22T10:57:30.762848Z"
    }
   },
   "outputs": [],
   "source": [
    "q = QuasiGroup(2)"
   ]
  },
  {
   "cell_type": "code",
   "execution_count": 48,
   "metadata": {
    "ExecuteTime": {
     "end_time": "2019-11-22T10:57:30.910446Z",
     "start_time": "2019-11-22T10:57:30.906450Z"
    }
   },
   "outputs": [],
   "source": [
    "arr = [[0,1,2,3],[1,2,3,0],[2,3,0,1],[3,0,1,2]]\n",
    "q.set_table(arr)"
   ]
  },
  {
   "cell_type": "code",
   "execution_count": null,
   "metadata": {
    "ExecuteTime": {
     "end_time": "2019-11-22T10:53:09.968739Z",
     "start_time": "2019-11-22T10:53:09.961789Z"
    }
   },
   "outputs": [],
   "source": []
  },
  {
   "cell_type": "code",
   "execution_count": null,
   "metadata": {
    "ExecuteTime": {
     "end_time": "2019-11-22T10:45:33.542023Z",
     "start_time": "2019-11-22T10:45:33.531041Z"
    }
   },
   "outputs": [],
   "source": []
  },
  {
   "cell_type": "code",
   "execution_count": null,
   "metadata": {},
   "outputs": [],
   "source": []
  }
 ],
 "metadata": {
  "kernelspec": {
   "display_name": "Python 3",
   "language": "python",
   "name": "python3"
  },
  "language_info": {
   "codemirror_mode": {
    "name": "ipython",
    "version": 3
   },
   "file_extension": ".py",
   "mimetype": "text/x-python",
   "name": "python",
   "nbconvert_exporter": "python",
   "pygments_lexer": "ipython3",
   "version": "3.7.1"
  }
 },
 "nbformat": 4,
 "nbformat_minor": 2
}
