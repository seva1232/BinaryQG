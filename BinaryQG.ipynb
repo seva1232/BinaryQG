{
 "cells": [
  {
   "cell_type": "code",
   "execution_count": 67,
   "metadata": {
    "ExecuteTime": {
     "end_time": "2019-11-23T11:06:13.240752Z",
     "start_time": "2019-11-23T11:06:13.236757Z"
    }
   },
   "outputs": [],
   "source": [
    "import numpy as np\n",
    "import sympy as sp\n",
    "import sys\n",
    "import os"
   ]
  },
  {
   "cell_type": "code",
   "execution_count": 117,
   "metadata": {
    "ExecuteTime": {
     "end_time": "2019-11-23T11:11:11.478730Z",
     "start_time": "2019-11-23T11:11:11.462744Z"
    }
   },
   "outputs": [],
   "source": [
    "import numpy as np\n",
    "import sympy as sp\n",
    "\n",
    "def int2bin(a, lenght):\n",
    "    return list(bin(a)[2:].zfill(lenght))\n",
    "    \n",
    "\n",
    "class binary_QuasiGroup(object):\n",
    "    def __init__(self, power):\n",
    "        super(QuasiGroup, self).__init__()\n",
    "        self.power = power\n",
    "        self.order = 2 ** power\n",
    "        self.table = np.zeros((2 ** power, 2 ** power))\n",
    "        self.bin_table = np.zeros((2 ** power, 2 ** power, power))\n",
    "        \n",
    "    def set_table(self, q):\n",
    "        self.table = np.array(q)\n",
    "        for i in range(self.order):\n",
    "            for j in range(self.order):\n",
    "                a = int2bin(q[i][j], lenght=self.power)\n",
    "                self.bin_table[i,j,:] = a\n",
    "                \n",
    "    def checkQG(self):\n",
    "        for row in self.table:\n",
    "            if len(set(row)) != self.order:\n",
    "                return False\n",
    "        for row in self.table.T:\n",
    "            if len(set(row)) != self.order:\n",
    "                return False\n",
    "        return True\n",
    "    \n",
    "    def reorder(self):\n",
    "        self.table = self.table[self.table[:,0].argsort()]\n",
    "        self.table = self.table.T\n",
    "        self.table = self.table[self.table[:,0].argsort()]\n",
    "        self.table = self.table.T\n",
    "\n",
    "        for i in range(self.order):\n",
    "            for j in range(self.order):\n",
    "                a = int2bin(self.table[i][j], lenght=self.power)\n",
    "                self.bin_table[i,j,:] = a\n",
    "                \n",
    "    def show(self):\n",
    "        np.set_printoptions(threshold=sys.maxsize)\n",
    "        print(self.table)\n",
    "        \n",
    "    def random(self):\n",
    "        while True:\n",
    "            self.set_table([np.random.permutation(self.order) for i in range(self.order)])\n",
    "            if self.checkQG():\n",
    "                checker = True\n",
    "                self.reorder()\n",
    "                return\n",
    "            \n",
    "class binary_function():\n",
    "    def __init__(self, arity_x, arity_y, table_of_values = None):\n",
    "        self.arity_x = arity_x\n",
    "        self.arity_y = arity_y\n",
    "        if table_of_values is not None:\n",
    "            self.table_of_values = table_of_values\n",
    "            \n",
    "    def __call__(vector_x, vector_y):\n",
    "        \n",
    "        \n",
    "        "
   ]
  },
  {
   "cell_type": "code",
   "execution_count": 118,
   "metadata": {
    "ExecuteTime": {
     "end_time": "2019-11-23T11:11:11.647992Z",
     "start_time": "2019-11-23T11:11:11.645028Z"
    }
   },
   "outputs": [],
   "source": [
    "q = binary_QuasiGroup(2)"
   ]
  },
  {
   "cell_type": "code",
   "execution_count": null,
   "metadata": {
    "ExecuteTime": {
     "end_time": "2019-11-23T11:11:11.818490Z",
     "start_time": "2019-11-23T11:11:11.814503Z"
    }
   },
   "outputs": [],
   "source": []
  },
  {
   "cell_type": "code",
   "execution_count": null,
   "metadata": {
    "ExecuteTime": {
     "end_time": "2019-11-23T11:11:12.000936Z",
     "start_time": "2019-11-23T11:11:11.994948Z"
    }
   },
   "outputs": [],
   "source": []
  },
  {
   "cell_type": "code",
   "execution_count": 121,
   "metadata": {
    "ExecuteTime": {
     "end_time": "2019-11-23T11:11:12.178612Z",
     "start_time": "2019-11-23T11:11:12.174623Z"
    }
   },
   "outputs": [],
   "source": [
    "q.reorder()"
   ]
  },
  {
   "cell_type": "code",
   "execution_count": null,
   "metadata": {
    "ExecuteTime": {
     "end_time": "2019-11-23T11:11:12.358992Z",
     "start_time": "2019-11-23T11:11:12.355001Z"
    }
   },
   "outputs": [],
   "source": []
  },
  {
   "cell_type": "code",
   "execution_count": null,
   "metadata": {
    "ExecuteTime": {
     "end_time": "2019-11-23T11:11:13.355733Z",
     "start_time": "2019-11-23T11:11:12.544870Z"
    }
   },
   "outputs": [],
   "source": []
  },
  {
   "cell_type": "code",
   "execution_count": null,
   "metadata": {},
   "outputs": [],
   "source": []
  },
  {
   "cell_type": "code",
   "execution_count": null,
   "metadata": {},
   "outputs": [],
   "source": []
  },
  {
   "cell_type": "code",
   "execution_count": null,
   "metadata": {},
   "outputs": [],
   "source": []
  }
 ],
 "metadata": {
  "kernelspec": {
   "display_name": "Python 3",
   "language": "python",
   "name": "python3"
  },
  "language_info": {
   "codemirror_mode": {
    "name": "ipython",
    "version": 3
   },
   "file_extension": ".py",
   "mimetype": "text/x-python",
   "name": "python",
   "nbconvert_exporter": "python",
   "pygments_lexer": "ipython3",
   "version": "3.7.1"
  }
 },
 "nbformat": 4,
 "nbformat_minor": 2
}
